{
  "nbformat": 4,
  "nbformat_minor": 0,
  "metadata": {
    "colab": {
      "name": "Untitled0.ipynb",
      "provenance": [],
      "toc_visible": true,
      "authorship_tag": "ABX9TyM2GMaxRgHh9bNRfbxUds6x",
      "include_colab_link": true
    },
    "kernelspec": {
      "name": "python3",
      "display_name": "Python 3"
    }
  },
  "cells": [
    {
      "cell_type": "markdown",
      "metadata": {
        "id": "view-in-github",
        "colab_type": "text"
      },
      "source": [
        "<a href=\"https://colab.research.google.com/github/19PA1A0563/DSA/blob/master/Assignment%201.ipynb\" target=\"_parent\"><img src=\"https://colab.research.google.com/assets/colab-badge.svg\" alt=\"Open In Colab\"/></a>"
      ]
    },
    {
      "cell_type": "markdown",
      "metadata": {
        "id": "Tfzfiw5KJkT3",
        "colab_type": "text"
      },
      "source": [
        "***1.program to find given number is a perfect number or not***"
      ]
    },
    {
      "cell_type": "code",
      "metadata": {
        "id": "oMjDRb-QIXei",
        "colab_type": "code",
        "colab": {
          "base_uri": "https://localhost:8080/",
          "height": 50
        },
        "outputId": "7f5a4082-a949-423f-e61d-20e86c4e327e"
      },
      "source": [
        "n=int(input(\"enter the number: \"))\n",
        "sum=0\n",
        "for i in range(1,n):\n",
        "  if(n%i==0):\n",
        "    sum+=i\n",
        "if (sum==n):\n",
        "  print(n,\"is a perfect number\")\n",
        "else:\n",
        "  print(n,\" is not a perfect number\")"
      ],
      "execution_count": null,
      "outputs": [
        {
          "output_type": "stream",
          "text": [
            "enter the number: 6\n",
            "6 is a perfect number\n"
          ],
          "name": "stdout"
        }
      ]
    },
    {
      "cell_type": "markdown",
      "metadata": {
        "id": "OSbu9KtrKL36",
        "colab_type": "text"
      },
      "source": [
        "**2.program to findout the  given number is strong number or not**"
      ]
    },
    {
      "cell_type": "code",
      "metadata": {
        "id": "uVKB8tVVJVJ2",
        "colab_type": "code",
        "colab": {
          "base_uri": "https://localhost:8080/",
          "height": 50
        },
        "outputId": "02e60482-e413-487f-8d15-4e62c1e8c699"
      },
      "source": [
        "n=int(input(\"enter a number:\"))\n",
        "sum=0\n",
        "temp=n\n",
        "while (n):\n",
        "  factorial=1\n",
        "  i=1\n",
        "  rem=n%10\n",
        "  while (i<=rem):\n",
        "    factorial=factorial*i\n",
        "    i+=1\n",
        "  sum+=factorial\n",
        "  n=n//10\n",
        "if (sum==temp):\n",
        "  print(temp,\"is a strong number\")\n",
        "else:\n",
        "  print(temp,\"is not a strong number\")"
      ],
      "execution_count": 10,
      "outputs": [
        {
          "output_type": "stream",
          "text": [
            "enter a number:145\n",
            "145 is a strong number\n"
          ],
          "name": "stdout"
        }
      ]
    }
  ]
}